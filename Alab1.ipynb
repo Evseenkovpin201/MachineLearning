{
 "cells": [
  {
   "cell_type": "code",
   "execution_count": 17,
   "id": "38380bdb",
   "metadata": {
    "scrolled": true
   },
   "outputs": [
    {
     "name": "stdout",
     "output_type": "stream",
     "text": [
      "Лучшие параметры: {'n_neighbors': 3}\n",
      "Точность: 0.177\n",
      "Отчет по классификации:\n",
      "              precision    recall  f1-score   support\n",
      "\n",
      "   Arthritis       0.18      0.38      0.24       319\n",
      "      Asthma       0.21      0.32      0.25       332\n",
      "      Cancer       0.17      0.13      0.15       363\n",
      "    Diabetes       0.15      0.10      0.12       303\n",
      "Hypertension       0.16      0.09      0.11       336\n",
      "     Obesity       0.15      0.05      0.08       347\n",
      "\n",
      "    accuracy                           0.18      2000\n",
      "   macro avg       0.17      0.18      0.16      2000\n",
      "weighted avg       0.17      0.18      0.16      2000\n",
      "\n"
     ]
    }
   ],
   "source": [
    "import pandas as pd\n",
    "from sklearn.model_selection import train_test_split, GridSearchCV\n",
    "from sklearn.neighbors import KNeighborsClassifier\n",
    "from sklearn.preprocessing import LabelEncoder\n",
    "from sklearn.metrics import accuracy_score, classification_report\n",
    "\n",
    "# Загрузка данных\n",
    "data = pd.read_csv('healthcare_dataset.csv')\n",
    "\n",
    "# Разделение на признаки и целевую переменную\n",
    "X = data.drop(['Medical Condition'], axis=1)  # Убираем столбец с медицинским состоянием (целевая переменная)\n",
    "y = data['Medical Condition']\n",
    "\n",
    "# Преобразование категориальных признаков в числовые\n",
    "label_encoder = LabelEncoder()\n",
    "for column in X.columns:\n",
    "    if X[column].dtype == 'object':\n",
    "        X[column] = label_encoder.fit_transform(X[column])\n",
    "\n",
    "# Разделение на обучающую и тестовую выборки\n",
    "X_train, X_test, y_train, y_test = train_test_split(X, y, test_size=0.2, random_state=42)\n",
    "\n",
    "# Создание модели k-ближайших соседей\n",
    "knn = KNeighborsClassifier()\n",
    "\n",
    "# Задаем значения параметров для перебора\n",
    "param_grid = {'n_neighbors': [3, 5, 7, 9, 11]}  # Выбор количества соседей для проверки\n",
    "\n",
    "# Создание объекта Grid Search с кросс-валидацией (cv=5 для примера)\n",
    "grid_search = GridSearchCV(knn, param_grid, cv=5)\n",
    "\n",
    "# Обучение Grid Search для поиска лучших параметров\n",
    "grid_search.fit(X_train, y_train)\n",
    "\n",
    "# Получение лучших параметров и модели с этими параметрами\n",
    "best_params = grid_search.best_params_\n",
    "best_knn = grid_search.best_estimator_\n",
    "\n",
    "# Предсказание на тестовой выборке с использованием лучшей модели\n",
    "predictions = best_knn.predict(X_test)\n",
    "\n",
    "# Оценка точности лучшей модели\n",
    "accuracy = accuracy_score(y_test, predictions)\n",
    "print(f\"Лучшие параметры: {best_params}\")\n",
    "print(f\"Точность: {accuracy}\")\n",
    "\n",
    "# Отчет по классификации\n",
    "print(\"Отчет по классификации:\")\n",
    "print(classification_report(y_test, predictions))\n"
   ]
  },
  {
   "cell_type": "markdown",
   "id": "3cad0519",
   "metadata": {},
   "source": [
    "Данные из CSV-файла загружаются, кодируются числами, разделяются на учебные и тестовые наборы, создается модель для нахождения соседей, ищутся наилучшие параметры этой модели, обучают модель на данных обучения, тестируют на данных для проверки и выводят отчет о том, насколько хорошо модель работает."
   ]
  },
  {
   "cell_type": "markdown",
   "id": "6aaaaf3c",
   "metadata": {},
   "source": []
  },
  {
   "cell_type": "code",
   "execution_count": null,
   "id": "ecc99fe3",
   "metadata": {},
   "outputs": [],
   "source": []
  }
 ],
 "metadata": {
  "kernelspec": {
   "display_name": "Python 3 (ipykernel)",
   "language": "python",
   "name": "python3"
  },
  "language_info": {
   "codemirror_mode": {
    "name": "ipython",
    "version": 3
   },
   "file_extension": ".py",
   "mimetype": "text/x-python",
   "name": "python",
   "nbconvert_exporter": "python",
   "pygments_lexer": "ipython3",
   "version": "3.11.5"
  }
 },
 "nbformat": 4,
 "nbformat_minor": 5
}
