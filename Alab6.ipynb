{
 "cells": [
  {
   "cell_type": "code",
   "execution_count": 10,
   "id": "338e6344",
   "metadata": {},
   "outputs": [],
   "source": [
    "import numpy as np\n",
    "import pandas as pd\n",
    "from sklearn.model_selection import train_test_split, cross_val_score\n",
    "from catboost import CatBoostClassifier\n",
    "from sklearn.metrics import classification_report\n",
    "from sklearn.metrics import accuracy_score, classification_report"
   ]
  },
  {
   "cell_type": "code",
   "execution_count": 2,
   "id": "fa293fa3",
   "metadata": {},
   "outputs": [
    {
     "name": "stdout",
     "output_type": "stream",
     "text": [
      "Общая информация о данных:\n",
      "Количество строк: 10000\n",
      "Количество столбцов: 15\n",
      "\n",
      "Типы данных по столбцам:\n",
      "Name                   object\n",
      "Age                     int64\n",
      "Gender                 object\n",
      "Blood Type             object\n",
      "Medical Condition      object\n",
      "Date of Admission      object\n",
      "Doctor                 object\n",
      "Hospital               object\n",
      "Insurance Provider     object\n",
      "Billing Amount        float64\n",
      "Room Number             int64\n",
      "Admission Type         object\n",
      "Discharge Date         object\n",
      "Medication             object\n",
      "Test Results           object\n",
      "dtype: object\n"
     ]
    }
   ],
   "source": [
    "# Загрузка данных\n",
    "data = pd.read_csv('healthcare_dataset.csv')\n",
    "\n",
    "# Вывод общей информации о данных\n",
    "print(\"Общая информация о данных:\")\n",
    "print(f\"Количество строк: {data.shape[0]}\")\n",
    "print(f\"Количество столбцов: {data.shape[1]}\")\n",
    "print(\"\\nТипы данных по столбцам:\")\n",
    "print(data.dtypes)"
   ]
  },
  {
   "cell_type": "code",
   "execution_count": 11,
   "id": "08841ca2",
   "metadata": {},
   "outputs": [
    {
     "name": "stdout",
     "output_type": "stream",
     "text": [
      "Лучшие параметры: {'depth': 3, 'iterations': 100, 'learning_rate': 0.01, 'loss_function': 'MultiClass'}\n",
      "Точность модели: 0.1605\n",
      "Отчет о классификации:\n",
      "              precision    recall  f1-score   support\n",
      "\n",
      "   Arthritis       0.14      0.00      0.01       319\n",
      "      Asthma       0.16      0.88      0.27       332\n",
      "      Cancer       0.25      0.01      0.02       363\n",
      "    Diabetes       1.00      0.00      0.00       303\n",
      "Hypertension       0.15      0.07      0.09       336\n",
      "     Obesity       1.00      0.00      0.00       347\n",
      "\n",
      "    accuracy                           0.16      2000\n",
      "   macro avg       0.45      0.16      0.07      2000\n",
      "weighted avg       0.45      0.16      0.07      2000\n",
      "\n"
     ]
    }
   ],
   "source": [
    "from sklearn.model_selection import GridSearchCV\n",
    "from catboost import CatBoostClassifier\n",
    "\n",
    "# Загрузка данных\n",
    "data = pd.read_csv('healthcare_dataset.csv')\n",
    "data = data.drop('Name', axis=1)\n",
    "\n",
    "# Предположим, что мы хотим предсказать тип медицинского состояния (Medical Condition)\n",
    "X = data.drop('Medical Condition', axis=1)\n",
    "y = data['Medical Condition']\n",
    "X = pd.get_dummies(X)\n",
    "\n",
    "# Разделение на обучающий и тестовый наборы данных\n",
    "X_train, X_test, y_train, y_test = train_test_split(X, y, test_size=0.2, random_state=42)\n",
    "\n",
    "# Определение параметров для поиска\n",
    "param_grid = {\n",
    "    'iterations': [100, 200,],\n",
    "    'learning_rate': [0.01, 0.1],\n",
    "    'depth': [3, 6],\n",
    "    'loss_function': ['MultiClass']\n",
    "}\n",
    "\n",
    "# Создание объекта GridSearchCV для модели\n",
    "grid_search = GridSearchCV(\n",
    "    estimator=CatBoostClassifier(verbose=False),  # Установка verbose=False,чтобы не было видно как обучается модель \n",
    "    param_grid=param_grid,\n",
    "    cv=5,\n",
    "    n_jobs=-1\n",
    ")\n",
    "\n",
    "\n",
    "# Подгонка модели к данным\n",
    "grid_search.fit(X_train, y_train)\n",
    "\n",
    "# Получение лучших параметров и оценщика с лучшими параметрами\n",
    "best_params = grid_search.best_params_\n",
    "best_model = grid_search.best_estimator_\n",
    "\n",
    "print(f'Лучшие параметры: {best_params}')\n",
    "\n",
    "# Получение прогнозов с использованием лучшей модели\n",
    "y_pred = best_model.predict(X_test)\n",
    "\n",
    "# Вычисление и вывод точности модели\n",
    "accuracy = accuracy_score(y_test, y_pred)\n",
    "print(f'Точность модели: {accuracy}')\n",
    "\n",
    "# Оценка производительности модели\n",
    "report = classification_report(y_test, y_pred, zero_division=1)\n",
    "print(f'Отчет о классификации:\\n{report}')\n",
    "\n",
    "# Определение отсутствующих классов в прогнозах\n",
    "classes = np.unique(y_test)\n",
    "predicted_classes = np.unique(y_pred)\n"
   ]
  },
  {
   "cell_type": "markdown",
   "id": "b597c7ad",
   "metadata": {},
   "source": [
    "Программа реализует загрузку и выбранного мною датасета,предварительно удалю столбец \"Name\" так как он не влияет никак на значения,разделяю данные на признаки,так как в датаесети имеются категоральные типы данных кодируем их с помощью One-Hot Encoding,разделению на обучающий и тестовый набор данных в соотношении 80/20,создаю 2 модели CatBoostClassifier (с разными гиперпараметрами), чтобы можно было проанализировать изменения в результате.Для каждой модели измеряется точность и выводится classification_report,также проводится кросс-валидация в 5 фолдов,её тоже вывел со средним значением."
   ]
  }
 ],
 "metadata": {
  "kernelspec": {
   "display_name": "Python 3 (ipykernel)",
   "language": "python",
   "name": "python3"
  },
  "language_info": {
   "codemirror_mode": {
    "name": "ipython",
    "version": 3
   },
   "file_extension": ".py",
   "mimetype": "text/x-python",
   "name": "python",
   "nbconvert_exporter": "python",
   "pygments_lexer": "ipython3",
   "version": "3.11.5"
  }
 },
 "nbformat": 4,
 "nbformat_minor": 5
}
