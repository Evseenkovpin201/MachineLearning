{
 "cells": [
  {
   "cell_type": "code",
   "execution_count": 10,
   "id": "1b766495",
   "metadata": {},
   "outputs": [
    {
     "name": "stdout",
     "output_type": "stream",
     "text": [
      "Accuracy (Logistic Regression - Default Parameters) on Test Set: 0.166\n",
      "Accuracy (Logistic Regression - Custom Parameters) on Test Set: 0.166\n",
      "Classification Report (Logistic Regression - Default Parameters):\n",
      "              precision    recall  f1-score   support\n",
      "\n",
      "           0       0.23      0.02      0.03       319\n",
      "           1       0.16      0.47      0.24       332\n",
      "           2       0.19      0.19      0.19       363\n",
      "           3       0.12      0.06      0.08       303\n",
      "           4       0.16      0.25      0.20       336\n",
      "           5       1.00      0.00      0.00       347\n",
      "\n",
      "    accuracy                           0.17      2000\n",
      "   macro avg       0.31      0.16      0.12      2000\n",
      "weighted avg       0.32      0.17      0.13      2000\n",
      "\n",
      "Classification Report (Logistic Regression - Custom Parameters):\n",
      "              precision    recall  f1-score   support\n",
      "\n",
      "           0       0.23      0.02      0.03       319\n",
      "           1       0.16      0.47      0.24       332\n",
      "           2       0.19      0.19      0.19       363\n",
      "           3       0.12      0.06      0.08       303\n",
      "           4       0.16      0.25      0.20       336\n",
      "           5       1.00      0.00      0.00       347\n",
      "\n",
      "    accuracy                           0.17      2000\n",
      "   macro avg       0.31      0.16      0.12      2000\n",
      "weighted avg       0.32      0.17      0.13      2000\n",
      "\n"
     ]
    }
   ],
   "source": [
    "import pandas as pd\n",
    "from sklearn.model_selection import train_test_split, cross_val_score\n",
    "from sklearn.preprocessing import LabelEncoder\n",
    "from sklearn.linear_model import LinearRegression, LogisticRegression\n",
    "from sklearn.metrics import accuracy_score, mean_squared_error, r2_score, classification_report\n",
    "\n",
    "# Загрузка данных из файла или базы данных\n",
    "data = pd.read_csv('healthcare_dataset.csv')  # Предполагая, что данные находятся в CSV файле\n",
    "\n",
    "# Преобразование категориальных признаков в числовые\n",
    "label_encoder = LabelEncoder()\n",
    "for column in data.columns:\n",
    "    if data[column].dtype == 'object':\n",
    "        data[column] = label_encoder.fit_transform(data[column])\n",
    "\n",
    "# Удаление ненужных столбцов или подготовка признаков и целевой переменной\n",
    "X = data.drop(['Name', 'Date of Admission', 'Discharge Date', 'Billing Amount', 'Medical Condition'], axis=1) # Признаки\n",
    "y = data['Medical Condition']  # Целевая переменная\n",
    "\n",
    "# Разделение данных на обучающий и тестовый наборы\n",
    "X_train, X_test, y_train, y_test = train_test_split(X, y, test_size=0.2, random_state=42)\n",
    "\n",
    "# Модельы логистической регрессии с разными гиперпараметрами\n",
    "logistic_model_1 = LogisticRegression(max_iter=1000)  # Модель с параметрами по умолчанию\n",
    "logistic_model_2 = LogisticRegression(penalty='l2', C=1.0, solver='lbfgs', max_iter=1000)  # Модель с настроенными гиперпараметрами\n",
    "\n",
    "# Обучение моделей\n",
    "logistic_model_1.fit(X_train, y_train)\n",
    "logistic_model_2.fit(X_train, y_train)\n",
    "\n",
    "# Получение предсказаний для тестового набора данных\n",
    "logistic_predictions_1 = logistic_model_1.predict(X_test)\n",
    "logistic_predictions_2 = logistic_model_2.predict(X_test)\n",
    "\n",
    "# Оценка производительности моделей на тестовом наборе данных\n",
    "accuracy_1 = accuracy_score(y_test, logistic_predictions_1)\n",
    "accuracy_2 = accuracy_score(y_test, logistic_predictions_2)\n",
    "\n",
    "print(f\"Accuracy (Logistic Regression - Default Parameters) on Test Set: {accuracy_1}\")\n",
    "print(f\"Accuracy (Logistic Regression - Custom Parameters) on Test Set: {accuracy_2}\")\n",
    "\n",
    "# Вывод отчета по классификации для каждой модели\n",
    "report_1 = classification_report(y_test, logistic_predictions_1, zero_division=1)\n",
    "report_2 = classification_report(y_test, logistic_predictions_2, zero_division=1)\n",
    "\n",
    "print(\"Classification Report (Logistic Regression - Default Parameters):\")\n",
    "print(report_1)\n",
    "\n",
    "print(\"Classification Report (Logistic Regression - Custom Parameters):\")\n",
    "print(report_2)"
   ]
  },
  {
   "cell_type": "markdown",
   "id": "6c9742d7",
   "metadata": {},
   "source": [
    "Программа загружает данные из CSV-файла, преобразует категориальные признаки в числовые с помощью LabelEncoder, удаляет ненужные столбцы, разделяет данные на обучающий и тестовый наборы, создает две модели логистической регрессии с разными параметрами, обучает их на обучающем наборе, делает предсказания на тестовом наборе и оценивает их производительность по метрике accuracy. Выводит точность каждой модели на тестовом наборе данных и отчеты по классификации для каждой модели."
   ]
  }
 ],
 "metadata": {
  "kernelspec": {
   "display_name": "Python 3 (ipykernel)",
   "language": "python",
   "name": "python3"
  },
  "language_info": {
   "codemirror_mode": {
    "name": "ipython",
    "version": 3
   },
   "file_extension": ".py",
   "mimetype": "text/x-python",
   "name": "python",
   "nbconvert_exporter": "python",
   "pygments_lexer": "ipython3",
   "version": "3.11.5"
  }
 },
 "nbformat": 4,
 "nbformat_minor": 5
}
