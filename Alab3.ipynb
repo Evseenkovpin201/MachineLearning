{
 "cells": [
  {
   "cell_type": "code",
   "execution_count": 3,
   "id": "1b766495",
   "metadata": {},
   "outputs": [],
   "source": [
    "import pandas as pd\n",
    "from sklearn.model_selection import train_test_split\n",
    "from sklearn.preprocessing import LabelEncoder\n",
    "from sklearn.linear_model import LinearRegression, LogisticRegression\n",
    "from sklearn.metrics import accuracy_score, mean_squared_error, r2_score, classification_report"
   ]
  },
  {
   "cell_type": "code",
   "execution_count": 4,
   "id": "eca6558b",
   "metadata": {},
   "outputs": [
    {
     "name": "stdout",
     "output_type": "stream",
     "text": [
      "Общая информация о данных:\n",
      "Количество строк: 10000\n",
      "Количество столбцов: 15\n",
      "\n",
      "Типы данных по столбцам:\n",
      "Name                   object\n",
      "Age                     int64\n",
      "Gender                 object\n",
      "Blood Type             object\n",
      "Medical Condition      object\n",
      "Date of Admission      object\n",
      "Doctor                 object\n",
      "Hospital               object\n",
      "Insurance Provider     object\n",
      "Billing Amount        float64\n",
      "Room Number             int64\n",
      "Admission Type         object\n",
      "Discharge Date         object\n",
      "Medication             object\n",
      "Test Results           object\n",
      "dtype: object\n"
     ]
    }
   ],
   "source": [
    "# Загрузка данных\n",
    "data = pd.read_csv('healthcare_dataset.csv')\n",
    "\n",
    "# Вывод общей информации о данных\n",
    "print(\"Общая информация о данных:\")\n",
    "print(f\"Количество строк: {data.shape[0]}\")\n",
    "print(f\"Количество столбцов: {data.shape[1]}\")\n",
    "print(\"\\nТипы данных по столбцам:\")\n",
    "print(data.dtypes)"
   ]
  },
  {
   "cell_type": "code",
   "execution_count": 5,
   "id": "2997daa6",
   "metadata": {},
   "outputs": [
    {
     "name": "stdout",
     "output_type": "stream",
     "text": [
      "Точность (Логистическая регрессия - Начальные параметры) : 0.166\n",
      "Accuracy (Логистическая регрессия - Кастомные параметры) : 0.166\n",
      "Classification Report (Логистическая регрессия - Начальные параметры):\n",
      "              precision    recall  f1-score   support\n",
      "\n",
      "           0       0.23      0.02      0.03       319\n",
      "           1       0.16      0.47      0.24       332\n",
      "           2       0.19      0.19      0.19       363\n",
      "           3       0.12      0.06      0.08       303\n",
      "           4       0.16      0.25      0.20       336\n",
      "           5       1.00      0.00      0.00       347\n",
      "\n",
      "    accuracy                           0.17      2000\n",
      "   macro avg       0.31      0.16      0.12      2000\n",
      "weighted avg       0.32      0.17      0.13      2000\n",
      "\n",
      "Classification Report (Логистическая регрессия - Кастомные параметры):\n",
      "              precision    recall  f1-score   support\n",
      "\n",
      "           0       0.23      0.02      0.03       319\n",
      "           1       0.16      0.47      0.24       332\n",
      "           2       0.19      0.19      0.19       363\n",
      "           3       0.12      0.06      0.08       303\n",
      "           4       0.16      0.25      0.20       336\n",
      "           5       1.00      0.00      0.00       347\n",
      "\n",
      "    accuracy                           0.17      2000\n",
      "   macro avg       0.31      0.16      0.12      2000\n",
      "weighted avg       0.32      0.17      0.13      2000\n",
      "\n",
      "Среднеквадратичная ошибка (Линейная регрессия) : 2.9207676324429146\n",
      "R^2 Score (Линейная регрессия) : -0.001816733022868\n"
     ]
    }
   ],
   "source": [
    "# Загрузка данных из файла или базы данных\n",
    "data = pd.read_csv('healthcare_dataset.csv')  # Предполагая, что данные находятся в CSV файле\n",
    "\n",
    "# Преобразование категориальных признаков в числовые\n",
    "label_encoder = LabelEncoder()\n",
    "for column in data.columns:\n",
    "    if data[column].dtype == 'object':\n",
    "        data[column] = label_encoder.fit_transform(data[column])\n",
    "\n",
    "# Удаление ненужных столбцов или подготовка признаков и целевой переменной\n",
    "X = data.drop(['Name', 'Date of Admission', 'Discharge Date', 'Billing Amount', 'Medical Condition'], axis=1) # Признаки\n",
    "y = data['Medical Condition']  # Целевая переменная\n",
    "\n",
    "# Разделение данных на обучающий и тестовый наборы\n",
    "X_train, X_test, y_train, y_test = train_test_split(X, y, test_size=0.2, random_state=42)\n",
    "\n",
    "# Модели логистической регрессии с разными гиперпараметрами\n",
    "logistic_model_1 = LogisticRegression(max_iter=1000)  # Модель с параметрами по умолчанию\n",
    "logistic_model_2 = LogisticRegression(penalty='l2', C=1.0, solver='lbfgs', max_iter=1000)  # Модель с настроенными гиперпараметрами\n",
    "\n",
    "# Обучение моделей\n",
    "logistic_model_1.fit(X_train, y_train)\n",
    "logistic_model_2.fit(X_train, y_train)\n",
    "\n",
    "# Получение предсказаний для тестового набора данных\n",
    "logistic_predictions_1 = logistic_model_1.predict(X_test)\n",
    "logistic_predictions_2 = logistic_model_2.predict(X_test)\n",
    "\n",
    "# Оценка производительности моделей на тестовом наборе данных\n",
    "accuracy_1 = accuracy_score(y_test, logistic_predictions_1)\n",
    "accuracy_2 = accuracy_score(y_test, logistic_predictions_2)\n",
    "\n",
    "print(f\"Точность (Логистическая регрессия - Начальные параметры) : {accuracy_1}\")\n",
    "print(f\"Accuracy (Логистическая регрессия - Кастомные параметры) : {accuracy_2}\")\n",
    "\n",
    "# Вывод отчета по классификации для каждой модели\n",
    "report_1 = classification_report(y_test, logistic_predictions_1, zero_division=1)\n",
    "report_2 = classification_report(y_test, logistic_predictions_2, zero_division=1)\n",
    "\n",
    "print(\"Classification Report (Логистическая регрессия - Начальные параметры):\")\n",
    "print(report_1)\n",
    "\n",
    "print(\"Classification Report (Логистическая регрессия - Кастомные параметры):\")\n",
    "print(report_2)\n",
    "\n",
    "# Модель линейной регрессии без указанных гиперпараметров\n",
    "linear_model = LinearRegression()\n",
    "\n",
    "# Обучение модели линейной регрессии\n",
    "linear_model.fit(X_train, y_train)\n",
    "\n",
    "# Получение предсказаний для тестового набора данных\n",
    "linear_predictions = linear_model.predict(X_test)\n",
    "\n",
    "# Оценка производительности модели линейной регрессии на тестовом наборе данных\n",
    "mse = mean_squared_error(y_test, linear_predictions)\n",
    "r2 = r2_score(y_test, linear_predictions)\n",
    "\n",
    "print(f\"Среднеквадратичная ошибка (Линейная регрессия) : {mse}\")\n",
    "print(f\"R^2 Score (Линейная регрессия) : {r2}\")\n"
   ]
  },
  {
   "cell_type": "markdown",
   "id": "2bca427b",
   "metadata": {},
   "source": [
    "Программа загружает данные из CSV-файла, преобразует категориальные признаки в числовые с помощью LabelEncoder, удаляет ненужные столбцы, разделяет данные на обучающий и тестовый наборы, создает две модели логистической регрессии с разными параметрами, обучает их на обучающем наборе, делает предсказания на тестовом наборе и оценивает их производительность по метрике accuracy. Выводит точность каждой модели на тестовом наборе данных и отчеты по классификации для каждой модели."
   ]
  }
 ],
 "metadata": {
  "kernelspec": {
   "display_name": "Python 3 (ipykernel)",
   "language": "python",
   "name": "python3"
  },
  "language_info": {
   "codemirror_mode": {
    "name": "ipython",
    "version": 3
   },
   "file_extension": ".py",
   "mimetype": "text/x-python",
   "name": "python",
   "nbconvert_exporter": "python",
   "pygments_lexer": "ipython3",
   "version": "3.11.5"
  }
 },
 "nbformat": 4,
 "nbformat_minor": 5
}
