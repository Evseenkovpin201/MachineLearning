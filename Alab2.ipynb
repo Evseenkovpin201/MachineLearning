{
 "cells": [
  {
   "cell_type": "code",
   "execution_count": 1,
   "id": "a70e24a0",
   "metadata": {},
   "outputs": [],
   "source": [
    "import pandas as pd\n",
    "from sklearn.model_selection import train_test_split, GridSearchCV\n",
    "from sklearn.svm import SVC\n",
    "from sklearn.preprocessing import LabelEncoder, StandardScaler\n",
    "from sklearn.metrics import accuracy_score, classification_report\n",
    "import numpy as np\n"
   ]
  },
  {
   "cell_type": "code",
   "execution_count": 2,
   "id": "5b76fac5",
   "metadata": {},
   "outputs": [
    {
     "name": "stdout",
     "output_type": "stream",
     "text": [
      "Общая информация о данных:\n",
      "Количество строк: 10000\n",
      "Количество столбцов: 15\n",
      "\n",
      "Типы данных по столбцам:\n",
      "Name                   object\n",
      "Age                     int64\n",
      "Gender                 object\n",
      "Blood Type             object\n",
      "Medical Condition      object\n",
      "Date of Admission      object\n",
      "Doctor                 object\n",
      "Hospital               object\n",
      "Insurance Provider     object\n",
      "Billing Amount        float64\n",
      "Room Number             int64\n",
      "Admission Type         object\n",
      "Discharge Date         object\n",
      "Medication             object\n",
      "Test Results           object\n",
      "dtype: object\n"
     ]
    }
   ],
   "source": [
    "# Загрузка данных\n",
    "data = pd.read_csv('healthcare_dataset.csv')\n",
    "\n",
    "# Вывод общей информации о данных\n",
    "print(\"Общая информация о данных:\")\n",
    "print(f\"Количество строк: {data.shape[0]}\")\n",
    "print(f\"Количество столбцов: {data.shape[1]}\")\n",
    "print(\"\\nТипы данных по столбцам:\")\n",
    "print(data.dtypes)"
   ]
  },
  {
   "cell_type": "code",
   "execution_count": 3,
   "id": "cdb5bea6",
   "metadata": {},
   "outputs": [
    {
     "name": "stdout",
     "output_type": "stream",
     "text": [
      "Лучшие параметры: {'C': 1, 'gamma': 0.1, 'kernel': 'sigmoid'}\n",
      "Точность модели: 0.1665\n",
      "Отчет о классификации:\n",
      "              precision    recall  f1-score   support\n",
      "\n",
      "   Arthritis       0.15      0.19      0.17       319\n",
      "      Asthma       0.17      0.20      0.18       332\n",
      "      Cancer       0.20      0.18      0.19       363\n",
      "    Diabetes       0.15      0.14      0.14       303\n",
      "Hypertension       0.16      0.15      0.15       336\n",
      "     Obesity       0.19      0.14      0.16       347\n",
      "\n",
      "    accuracy                           0.17      2000\n",
      "   macro avg       0.17      0.17      0.17      2000\n",
      "weighted avg       0.17      0.17      0.17      2000\n",
      "\n"
     ]
    }
   ],
   "source": [
    "# Загрузка данных\n",
    "data = pd.read_csv('healthcare_dataset.csv')\n",
    "\n",
    "# Преобразование столбцов с датами в объекты datetime\n",
    "data['Date of Admission'] = pd.to_datetime(data['Date of Admission'])\n",
    "data['Discharge Date'] = pd.to_datetime(data['Discharge Date'])\n",
    "\n",
    "# Вычисление продолжительности пребывания\n",
    "data['Duration of Stay'] = (data['Discharge Date'] - data['Date of Admission']).dt.days\n",
    "\n",
    "# Удаление исходных столбцов с датами\n",
    "data.drop(['Date of Admission', 'Discharge Date'], axis=1, inplace=True)\n",
    "\n",
    "# Отделение признаков и целевой переменной\n",
    "X = data.drop(columns=['Medical Condition'])  # Предполагается, что 'Medical Condition' - целевая переменная\n",
    "y = data['Medical Condition']\n",
    "\n",
    "# Кодирование категориальных переменных\n",
    "categorical_cols = ['Name', 'Gender', 'Blood Type', 'Doctor', 'Hospital', 'Insurance Provider', 'Admission Type', 'Medication', 'Test Results']\n",
    "for col in categorical_cols:\n",
    "    le = LabelEncoder()\n",
    "    X[col] = le.fit_transform(X[col].astype(str))\n",
    "\n",
    "# Обработка отсутствующих значений и масштабирование\n",
    "X.fillna(0, inplace=True)  # Заполнение отсутствующих значений нулями в качестве примера, выберите соответствующий метод\n",
    "scaler = StandardScaler()\n",
    "X_scaled = scaler.fit_transform(X)\n",
    "\n",
    "# Разделение данных на обучающий и тестовый наборы\n",
    "X_train, X_test, y_train, y_test = train_test_split(X_scaled, y, test_size=0.2, random_state=42)\n",
    "\n",
    "# Указание гиперпараметров и их значений для поиска\n",
    "param_grid = {\n",
    "    'C': [0.001, 0.01, 0.1, 1, 10],\n",
    "    'kernel': ['linear', 'rbf', 'sigmoid'],\n",
    "    'gamma': [0.1, 1, 10]}\n",
    "\n",
    "\n",
    "# Создание объекта GridSearchCV\n",
    "grid_search = GridSearchCV(SVC(), param_grid, cv=5)\n",
    "\n",
    "# Подгонка сетки по данным\n",
    "grid_search.fit(X_train, y_train)\n",
    "\n",
    "# Получение лучших параметров и лучшего оценщика\n",
    "best_params = grid_search.best_params_\n",
    "best_svm = grid_search.best_estimator_\n",
    "\n",
    "print(f'Лучшие параметры: {best_params}')\n",
    "\n",
    "# Создание прогнозов с использованием лучшего оценщика\n",
    "y_pred = best_svm.predict(X_test)\n",
    "\n",
    "# Оценка производительности модели\n",
    "accuracy = accuracy_score(y_test, y_pred)\n",
    "print(f'Точность модели: {accuracy}')\n",
    "\n",
    "# Получение отчета о классификации с предупреждениями\n",
    "report = classification_report(y_test, y_pred, zero_division=1)\n",
    "print(f'Отчет о классификации:\\n{report}')\n",
    "\n",
    "# Определение отсутствующих классов в прогнозах\n",
    "classes = np.unique(y_test)\n",
    "predicted_classes = np.unique(y_pred)\n"
   ]
  },
  {
   "cell_type": "markdown",
   "id": "11b23d72",
   "metadata": {},
   "source": [
    "Программа загружает данные из CSV-файла , преобразует даты, рассчитывает длительность пребывания, убирает столбцы с датами, разделяет данные на признаки и целевую переменную, кодирует категориальные переменные, обрабатывает пропущенные значения и масштабирует данные, разбивает их на обучающие и тестовые наборы, определяет набор гиперпараметров для модели SVM, выполняет поиск наилучших параметров для SVM с помощью кросс-валидации и оценивает модель, выводя отчет о ее эффективности."
   ]
  }
 ],
 "metadata": {
  "kernelspec": {
   "display_name": "Python 3 (ipykernel)",
   "language": "python",
   "name": "python3"
  },
  "language_info": {
   "codemirror_mode": {
    "name": "ipython",
    "version": 3
   },
   "file_extension": ".py",
   "mimetype": "text/x-python",
   "name": "python",
   "nbconvert_exporter": "python",
   "pygments_lexer": "ipython3",
   "version": "3.11.5"
  }
 },
 "nbformat": 4,
 "nbformat_minor": 5
}
