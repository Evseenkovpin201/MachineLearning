{
 "cells": [
  {
   "cell_type": "code",
   "execution_count": 8,
   "id": "a70e24a0",
   "metadata": {},
   "outputs": [],
   "source": [
    "from sklearn.svm import SVC\n",
    "from sklearn.metrics import accuracy_score, classification_report\n",
    "from sklearn.model_selection import ParameterGrid\n",
    "from sklearn.preprocessing import LabelEncoder, StandardScaler\n",
    "from sklearn.model_selection import train_test_split\n",
    "import pandas as pd\n",
    "import numpy as np\n",
    "\n"
   ]
  },
  {
   "cell_type": "code",
   "execution_count": 3,
   "id": "5b76fac5",
   "metadata": {},
   "outputs": [
    {
     "name": "stdout",
     "output_type": "stream",
     "text": [
      "Общая информация о данных:\n",
      "Количество строк: 10000\n",
      "Количество столбцов: 15\n",
      "\n",
      "Типы данных по столбцам:\n",
      "Name                   object\n",
      "Age                     int64\n",
      "Gender                 object\n",
      "Blood Type             object\n",
      "Medical Condition      object\n",
      "Date of Admission      object\n",
      "Doctor                 object\n",
      "Hospital               object\n",
      "Insurance Provider     object\n",
      "Billing Amount        float64\n",
      "Room Number             int64\n",
      "Admission Type         object\n",
      "Discharge Date         object\n",
      "Medication             object\n",
      "Test Results           object\n",
      "dtype: object\n"
     ]
    }
   ],
   "source": [
    "# Загрузка данных\n",
    "data = pd.read_csv('healthcare_dataset.csv')\n",
    "\n",
    "# Вывод общей информации о данных\n",
    "print(\"Общая информация о данных:\")\n",
    "print(f\"Количество строк: {data.shape[0]}\")\n",
    "print(f\"Количество столбцов: {data.shape[1]}\")\n",
    "print(\"\\nТипы данных по столбцам:\")\n",
    "print(data.dtypes)"
   ]
  },
  {
   "cell_type": "code",
   "execution_count": 9,
   "id": "cdb5bea6",
   "metadata": {},
   "outputs": [
    {
     "name": "stdout",
     "output_type": "stream",
     "text": [
      "Iteration 1/240\n",
      "Parameters: {'C': 0.001, 'degree': 2, 'gamma': 0.1, 'kernel': 'linear'}\n"
     ]
    },
    {
     "name": "stderr",
     "output_type": "stream",
     "text": [
      "C:\\Users\\Danil\\anaconda3\\Lib\\site-packages\\sklearn\\metrics\\_classification.py:1469: UndefinedMetricWarning: Precision and F-score are ill-defined and being set to 0.0 in labels with no predicted samples. Use `zero_division` parameter to control this behavior.\n",
      "  _warn_prf(average, modifier, msg_start, len(result))\n",
      "C:\\Users\\Danil\\anaconda3\\Lib\\site-packages\\sklearn\\metrics\\_classification.py:1469: UndefinedMetricWarning: Precision and F-score are ill-defined and being set to 0.0 in labels with no predicted samples. Use `zero_division` parameter to control this behavior.\n",
      "  _warn_prf(average, modifier, msg_start, len(result))\n",
      "C:\\Users\\Danil\\anaconda3\\Lib\\site-packages\\sklearn\\metrics\\_classification.py:1469: UndefinedMetricWarning: Precision and F-score are ill-defined and being set to 0.0 in labels with no predicted samples. Use `zero_division` parameter to control this behavior.\n",
      "  _warn_prf(average, modifier, msg_start, len(result))\n"
     ]
    },
    {
     "name": "stdout",
     "output_type": "stream",
     "text": [
      "Accuracy: 0.166\n",
      "Classification Report:\n",
      "              precision    recall  f1-score   support\n",
      "\n",
      "   Arthritis       0.00      0.00      0.00       319\n",
      "      Asthma       0.17      1.00      0.28       332\n",
      "      Cancer       0.00      0.00      0.00       363\n",
      "    Diabetes       0.00      0.00      0.00       303\n",
      "Hypertension       0.00      0.00      0.00       336\n",
      "     Obesity       0.00      0.00      0.00       347\n",
      "\n",
      "    accuracy                           0.17      2000\n",
      "   macro avg       0.03      0.17      0.05      2000\n",
      "weighted avg       0.03      0.17      0.05      2000\n",
      "\n",
      "\n",
      "Iteration 2/240\n",
      "Parameters: {'C': 0.001, 'degree': 2, 'gamma': 0.1, 'kernel': 'rbf'}\n"
     ]
    },
    {
     "name": "stderr",
     "output_type": "stream",
     "text": [
      "C:\\Users\\Danil\\anaconda3\\Lib\\site-packages\\sklearn\\metrics\\_classification.py:1469: UndefinedMetricWarning: Precision and F-score are ill-defined and being set to 0.0 in labels with no predicted samples. Use `zero_division` parameter to control this behavior.\n",
      "  _warn_prf(average, modifier, msg_start, len(result))\n",
      "C:\\Users\\Danil\\anaconda3\\Lib\\site-packages\\sklearn\\metrics\\_classification.py:1469: UndefinedMetricWarning: Precision and F-score are ill-defined and being set to 0.0 in labels with no predicted samples. Use `zero_division` parameter to control this behavior.\n",
      "  _warn_prf(average, modifier, msg_start, len(result))\n",
      "C:\\Users\\Danil\\anaconda3\\Lib\\site-packages\\sklearn\\metrics\\_classification.py:1469: UndefinedMetricWarning: Precision and F-score are ill-defined and being set to 0.0 in labels with no predicted samples. Use `zero_division` parameter to control this behavior.\n",
      "  _warn_prf(average, modifier, msg_start, len(result))\n"
     ]
    },
    {
     "name": "stdout",
     "output_type": "stream",
     "text": [
      "Accuracy: 0.166\n",
      "Classification Report:\n",
      "              precision    recall  f1-score   support\n",
      "\n",
      "   Arthritis       0.00      0.00      0.00       319\n",
      "      Asthma       0.17      1.00      0.28       332\n",
      "      Cancer       0.00      0.00      0.00       363\n",
      "    Diabetes       0.00      0.00      0.00       303\n",
      "Hypertension       0.00      0.00      0.00       336\n",
      "     Obesity       0.00      0.00      0.00       347\n",
      "\n",
      "    accuracy                           0.17      2000\n",
      "   macro avg       0.03      0.17      0.05      2000\n",
      "weighted avg       0.03      0.17      0.05      2000\n",
      "\n",
      "\n",
      "Iteration 3/240\n",
      "Parameters: {'C': 0.001, 'degree': 2, 'gamma': 0.1, 'kernel': 'sigmoid'}\n"
     ]
    },
    {
     "name": "stderr",
     "output_type": "stream",
     "text": [
      "C:\\Users\\Danil\\anaconda3\\Lib\\site-packages\\sklearn\\metrics\\_classification.py:1469: UndefinedMetricWarning: Precision and F-score are ill-defined and being set to 0.0 in labels with no predicted samples. Use `zero_division` parameter to control this behavior.\n",
      "  _warn_prf(average, modifier, msg_start, len(result))\n",
      "C:\\Users\\Danil\\anaconda3\\Lib\\site-packages\\sklearn\\metrics\\_classification.py:1469: UndefinedMetricWarning: Precision and F-score are ill-defined and being set to 0.0 in labels with no predicted samples. Use `zero_division` parameter to control this behavior.\n",
      "  _warn_prf(average, modifier, msg_start, len(result))\n",
      "C:\\Users\\Danil\\anaconda3\\Lib\\site-packages\\sklearn\\metrics\\_classification.py:1469: UndefinedMetricWarning: Precision and F-score are ill-defined and being set to 0.0 in labels with no predicted samples. Use `zero_division` parameter to control this behavior.\n",
      "  _warn_prf(average, modifier, msg_start, len(result))\n"
     ]
    },
    {
     "name": "stdout",
     "output_type": "stream",
     "text": [
      "Accuracy: 0.166\n",
      "Classification Report:\n",
      "              precision    recall  f1-score   support\n",
      "\n",
      "   Arthritis       0.00      0.00      0.00       319\n",
      "      Asthma       0.17      1.00      0.28       332\n",
      "      Cancer       0.00      0.00      0.00       363\n",
      "    Diabetes       0.00      0.00      0.00       303\n",
      "Hypertension       0.00      0.00      0.00       336\n",
      "     Obesity       0.00      0.00      0.00       347\n",
      "\n",
      "    accuracy                           0.17      2000\n",
      "   macro avg       0.03      0.17      0.05      2000\n",
      "weighted avg       0.03      0.17      0.05      2000\n",
      "\n",
      "\n",
      "Iteration 4/240\n",
      "Parameters: {'C': 0.001, 'degree': 2, 'gamma': 0.1, 'kernel': 'poly'}\n"
     ]
    },
    {
     "name": "stderr",
     "output_type": "stream",
     "text": [
      "C:\\Users\\Danil\\anaconda3\\Lib\\site-packages\\sklearn\\metrics\\_classification.py:1469: UndefinedMetricWarning: Precision and F-score are ill-defined and being set to 0.0 in labels with no predicted samples. Use `zero_division` parameter to control this behavior.\n",
      "  _warn_prf(average, modifier, msg_start, len(result))\n",
      "C:\\Users\\Danil\\anaconda3\\Lib\\site-packages\\sklearn\\metrics\\_classification.py:1469: UndefinedMetricWarning: Precision and F-score are ill-defined and being set to 0.0 in labels with no predicted samples. Use `zero_division` parameter to control this behavior.\n",
      "  _warn_prf(average, modifier, msg_start, len(result))\n",
      "C:\\Users\\Danil\\anaconda3\\Lib\\site-packages\\sklearn\\metrics\\_classification.py:1469: UndefinedMetricWarning: Precision and F-score are ill-defined and being set to 0.0 in labels with no predicted samples. Use `zero_division` parameter to control this behavior.\n",
      "  _warn_prf(average, modifier, msg_start, len(result))\n"
     ]
    },
    {
     "name": "stdout",
     "output_type": "stream",
     "text": [
      "Accuracy: 0.166\n",
      "Classification Report:\n",
      "              precision    recall  f1-score   support\n",
      "\n",
      "   Arthritis       0.00      0.00      0.00       319\n",
      "      Asthma       0.17      1.00      0.28       332\n",
      "      Cancer       0.00      0.00      0.00       363\n",
      "    Diabetes       0.00      0.00      0.00       303\n",
      "Hypertension       0.00      0.00      0.00       336\n",
      "     Obesity       0.00      0.00      0.00       347\n",
      "\n",
      "    accuracy                           0.17      2000\n",
      "   macro avg       0.03      0.17      0.05      2000\n",
      "weighted avg       0.03      0.17      0.05      2000\n",
      "\n",
      "\n",
      "Iteration 5/240\n",
      "Parameters: {'C': 0.001, 'degree': 2, 'gamma': 1, 'kernel': 'linear'}\n"
     ]
    },
    {
     "name": "stderr",
     "output_type": "stream",
     "text": [
      "C:\\Users\\Danil\\anaconda3\\Lib\\site-packages\\sklearn\\metrics\\_classification.py:1469: UndefinedMetricWarning: Precision and F-score are ill-defined and being set to 0.0 in labels with no predicted samples. Use `zero_division` parameter to control this behavior.\n",
      "  _warn_prf(average, modifier, msg_start, len(result))\n",
      "C:\\Users\\Danil\\anaconda3\\Lib\\site-packages\\sklearn\\metrics\\_classification.py:1469: UndefinedMetricWarning: Precision and F-score are ill-defined and being set to 0.0 in labels with no predicted samples. Use `zero_division` parameter to control this behavior.\n",
      "  _warn_prf(average, modifier, msg_start, len(result))\n",
      "C:\\Users\\Danil\\anaconda3\\Lib\\site-packages\\sklearn\\metrics\\_classification.py:1469: UndefinedMetricWarning: Precision and F-score are ill-defined and being set to 0.0 in labels with no predicted samples. Use `zero_division` parameter to control this behavior.\n",
      "  _warn_prf(average, modifier, msg_start, len(result))\n"
     ]
    },
    {
     "name": "stdout",
     "output_type": "stream",
     "text": [
      "Accuracy: 0.166\n",
      "Classification Report:\n",
      "              precision    recall  f1-score   support\n",
      "\n",
      "   Arthritis       0.00      0.00      0.00       319\n",
      "      Asthma       0.17      1.00      0.28       332\n",
      "      Cancer       0.00      0.00      0.00       363\n",
      "    Diabetes       0.00      0.00      0.00       303\n",
      "Hypertension       0.00      0.00      0.00       336\n",
      "     Obesity       0.00      0.00      0.00       347\n",
      "\n",
      "    accuracy                           0.17      2000\n",
      "   macro avg       0.03      0.17      0.05      2000\n",
      "weighted avg       0.03      0.17      0.05      2000\n",
      "\n",
      "\n",
      "Iteration 6/240\n",
      "Parameters: {'C': 0.001, 'degree': 2, 'gamma': 1, 'kernel': 'rbf'}\n"
     ]
    },
    {
     "name": "stderr",
     "output_type": "stream",
     "text": [
      "C:\\Users\\Danil\\anaconda3\\Lib\\site-packages\\sklearn\\metrics\\_classification.py:1469: UndefinedMetricWarning: Precision and F-score are ill-defined and being set to 0.0 in labels with no predicted samples. Use `zero_division` parameter to control this behavior.\n",
      "  _warn_prf(average, modifier, msg_start, len(result))\n",
      "C:\\Users\\Danil\\anaconda3\\Lib\\site-packages\\sklearn\\metrics\\_classification.py:1469: UndefinedMetricWarning: Precision and F-score are ill-defined and being set to 0.0 in labels with no predicted samples. Use `zero_division` parameter to control this behavior.\n",
      "  _warn_prf(average, modifier, msg_start, len(result))\n",
      "C:\\Users\\Danil\\anaconda3\\Lib\\site-packages\\sklearn\\metrics\\_classification.py:1469: UndefinedMetricWarning: Precision and F-score are ill-defined and being set to 0.0 in labels with no predicted samples. Use `zero_division` parameter to control this behavior.\n",
      "  _warn_prf(average, modifier, msg_start, len(result))\n"
     ]
    },
    {
     "name": "stdout",
     "output_type": "stream",
     "text": [
      "Accuracy: 0.166\n",
      "Classification Report:\n",
      "              precision    recall  f1-score   support\n",
      "\n",
      "   Arthritis       0.00      0.00      0.00       319\n",
      "      Asthma       0.17      1.00      0.28       332\n",
      "      Cancer       0.00      0.00      0.00       363\n",
      "    Diabetes       0.00      0.00      0.00       303\n",
      "Hypertension       0.00      0.00      0.00       336\n",
      "     Obesity       0.00      0.00      0.00       347\n",
      "\n",
      "    accuracy                           0.17      2000\n",
      "   macro avg       0.03      0.17      0.05      2000\n",
      "weighted avg       0.03      0.17      0.05      2000\n",
      "\n",
      "\n",
      "Iteration 7/240\n",
      "Parameters: {'C': 0.001, 'degree': 2, 'gamma': 1, 'kernel': 'sigmoid'}\n"
     ]
    },
    {
     "name": "stderr",
     "output_type": "stream",
     "text": [
      "C:\\Users\\Danil\\anaconda3\\Lib\\site-packages\\sklearn\\metrics\\_classification.py:1469: UndefinedMetricWarning: Precision and F-score are ill-defined and being set to 0.0 in labels with no predicted samples. Use `zero_division` parameter to control this behavior.\n",
      "  _warn_prf(average, modifier, msg_start, len(result))\n",
      "C:\\Users\\Danil\\anaconda3\\Lib\\site-packages\\sklearn\\metrics\\_classification.py:1469: UndefinedMetricWarning: Precision and F-score are ill-defined and being set to 0.0 in labels with no predicted samples. Use `zero_division` parameter to control this behavior.\n",
      "  _warn_prf(average, modifier, msg_start, len(result))\n",
      "C:\\Users\\Danil\\anaconda3\\Lib\\site-packages\\sklearn\\metrics\\_classification.py:1469: UndefinedMetricWarning: Precision and F-score are ill-defined and being set to 0.0 in labels with no predicted samples. Use `zero_division` parameter to control this behavior.\n",
      "  _warn_prf(average, modifier, msg_start, len(result))\n"
     ]
    },
    {
     "name": "stdout",
     "output_type": "stream",
     "text": [
      "Accuracy: 0.166\n",
      "Classification Report:\n",
      "              precision    recall  f1-score   support\n",
      "\n",
      "   Arthritis       0.00      0.00      0.00       319\n",
      "      Asthma       0.17      1.00      0.28       332\n",
      "      Cancer       0.00      0.00      0.00       363\n",
      "    Diabetes       0.00      0.00      0.00       303\n",
      "Hypertension       0.00      0.00      0.00       336\n",
      "     Obesity       0.00      0.00      0.00       347\n",
      "\n",
      "    accuracy                           0.17      2000\n",
      "   macro avg       0.03      0.17      0.05      2000\n",
      "weighted avg       0.03      0.17      0.05      2000\n",
      "\n",
      "\n",
      "Iteration 8/240\n",
      "Parameters: {'C': 0.001, 'degree': 2, 'gamma': 1, 'kernel': 'poly'}\n",
      "Accuracy: 0.1805\n",
      "Classification Report:\n",
      "              precision    recall  f1-score   support\n",
      "\n",
      "   Arthritis       0.18      0.19      0.19       319\n",
      "      Asthma       0.16      0.28      0.21       332\n",
      "      Cancer       0.19      0.17      0.18       363\n",
      "    Diabetes       0.20      0.16      0.18       303\n",
      "Hypertension       0.18      0.21      0.19       336\n",
      "     Obesity       0.21      0.07      0.10       347\n",
      "\n",
      "    accuracy                           0.18      2000\n",
      "   macro avg       0.19      0.18      0.17      2000\n",
      "weighted avg       0.19      0.18      0.17      2000\n",
      "\n",
      "\n",
      "Iteration 9/240\n",
      "Parameters: {'C': 0.001, 'degree': 2, 'gamma': 10, 'kernel': 'linear'}\n"
     ]
    },
    {
     "name": "stderr",
     "output_type": "stream",
     "text": [
      "C:\\Users\\Danil\\anaconda3\\Lib\\site-packages\\sklearn\\metrics\\_classification.py:1469: UndefinedMetricWarning: Precision and F-score are ill-defined and being set to 0.0 in labels with no predicted samples. Use `zero_division` parameter to control this behavior.\n",
      "  _warn_prf(average, modifier, msg_start, len(result))\n",
      "C:\\Users\\Danil\\anaconda3\\Lib\\site-packages\\sklearn\\metrics\\_classification.py:1469: UndefinedMetricWarning: Precision and F-score are ill-defined and being set to 0.0 in labels with no predicted samples. Use `zero_division` parameter to control this behavior.\n",
      "  _warn_prf(average, modifier, msg_start, len(result))\n",
      "C:\\Users\\Danil\\anaconda3\\Lib\\site-packages\\sklearn\\metrics\\_classification.py:1469: UndefinedMetricWarning: Precision and F-score are ill-defined and being set to 0.0 in labels with no predicted samples. Use `zero_division` parameter to control this behavior.\n",
      "  _warn_prf(average, modifier, msg_start, len(result))\n"
     ]
    },
    {
     "name": "stdout",
     "output_type": "stream",
     "text": [
      "Accuracy: 0.166\n",
      "Classification Report:\n",
      "              precision    recall  f1-score   support\n",
      "\n",
      "   Arthritis       0.00      0.00      0.00       319\n",
      "      Asthma       0.17      1.00      0.28       332\n",
      "      Cancer       0.00      0.00      0.00       363\n",
      "    Diabetes       0.00      0.00      0.00       303\n",
      "Hypertension       0.00      0.00      0.00       336\n",
      "     Obesity       0.00      0.00      0.00       347\n",
      "\n",
      "    accuracy                           0.17      2000\n",
      "   macro avg       0.03      0.17      0.05      2000\n",
      "weighted avg       0.03      0.17      0.05      2000\n",
      "\n",
      "\n",
      "Iteration 10/240\n",
      "Parameters: {'C': 0.001, 'degree': 2, 'gamma': 10, 'kernel': 'rbf'}\n"
     ]
    },
    {
     "name": "stderr",
     "output_type": "stream",
     "text": [
      "C:\\Users\\Danil\\anaconda3\\Lib\\site-packages\\sklearn\\metrics\\_classification.py:1469: UndefinedMetricWarning: Precision and F-score are ill-defined and being set to 0.0 in labels with no predicted samples. Use `zero_division` parameter to control this behavior.\n",
      "  _warn_prf(average, modifier, msg_start, len(result))\n",
      "C:\\Users\\Danil\\anaconda3\\Lib\\site-packages\\sklearn\\metrics\\_classification.py:1469: UndefinedMetricWarning: Precision and F-score are ill-defined and being set to 0.0 in labels with no predicted samples. Use `zero_division` parameter to control this behavior.\n",
      "  _warn_prf(average, modifier, msg_start, len(result))\n",
      "C:\\Users\\Danil\\anaconda3\\Lib\\site-packages\\sklearn\\metrics\\_classification.py:1469: UndefinedMetricWarning: Precision and F-score are ill-defined and being set to 0.0 in labels with no predicted samples. Use `zero_division` parameter to control this behavior.\n",
      "  _warn_prf(average, modifier, msg_start, len(result))\n"
     ]
    },
    {
     "name": "stdout",
     "output_type": "stream",
     "text": [
      "Accuracy: 0.166\n",
      "Classification Report:\n",
      "              precision    recall  f1-score   support\n",
      "\n",
      "   Arthritis       0.00      0.00      0.00       319\n",
      "      Asthma       0.17      1.00      0.28       332\n",
      "      Cancer       0.00      0.00      0.00       363\n",
      "    Diabetes       0.00      0.00      0.00       303\n",
      "Hypertension       0.00      0.00      0.00       336\n",
      "     Obesity       0.00      0.00      0.00       347\n",
      "\n",
      "    accuracy                           0.17      2000\n",
      "   macro avg       0.03      0.17      0.05      2000\n",
      "weighted avg       0.03      0.17      0.05      2000\n",
      "\n",
      "\n",
      "Iteration 11/240\n",
      "Parameters: {'C': 0.001, 'degree': 2, 'gamma': 10, 'kernel': 'sigmoid'}\n"
     ]
    },
    {
     "name": "stderr",
     "output_type": "stream",
     "text": [
      "C:\\Users\\Danil\\anaconda3\\Lib\\site-packages\\sklearn\\metrics\\_classification.py:1469: UndefinedMetricWarning: Precision and F-score are ill-defined and being set to 0.0 in labels with no predicted samples. Use `zero_division` parameter to control this behavior.\n",
      "  _warn_prf(average, modifier, msg_start, len(result))\n",
      "C:\\Users\\Danil\\anaconda3\\Lib\\site-packages\\sklearn\\metrics\\_classification.py:1469: UndefinedMetricWarning: Precision and F-score are ill-defined and being set to 0.0 in labels with no predicted samples. Use `zero_division` parameter to control this behavior.\n",
      "  _warn_prf(average, modifier, msg_start, len(result))\n",
      "C:\\Users\\Danil\\anaconda3\\Lib\\site-packages\\sklearn\\metrics\\_classification.py:1469: UndefinedMetricWarning: Precision and F-score are ill-defined and being set to 0.0 in labels with no predicted samples. Use `zero_division` parameter to control this behavior.\n",
      "  _warn_prf(average, modifier, msg_start, len(result))\n"
     ]
    },
    {
     "name": "stdout",
     "output_type": "stream",
     "text": [
      "Accuracy: 0.166\n",
      "Classification Report:\n",
      "              precision    recall  f1-score   support\n",
      "\n",
      "   Arthritis       0.00      0.00      0.00       319\n",
      "      Asthma       0.17      1.00      0.28       332\n",
      "      Cancer       0.00      0.00      0.00       363\n",
      "    Diabetes       0.00      0.00      0.00       303\n",
      "Hypertension       0.00      0.00      0.00       336\n",
      "     Obesity       0.00      0.00      0.00       347\n",
      "\n",
      "    accuracy                           0.17      2000\n",
      "   macro avg       0.03      0.17      0.05      2000\n",
      "weighted avg       0.03      0.17      0.05      2000\n",
      "\n",
      "\n",
      "Iteration 12/240\n",
      "Parameters: {'C': 0.001, 'degree': 2, 'gamma': 10, 'kernel': 'poly'}\n",
      "Accuracy: 0.173\n",
      "Classification Report:\n",
      "              precision    recall  f1-score   support\n",
      "\n",
      "   Arthritis       0.18      0.21      0.20       319\n",
      "      Asthma       0.16      0.19      0.17       332\n",
      "      Cancer       0.19      0.19      0.19       363\n",
      "    Diabetes       0.17      0.17      0.17       303\n",
      "Hypertension       0.16      0.15      0.15       336\n",
      "     Obesity       0.18      0.12      0.14       347\n",
      "\n",
      "    accuracy                           0.17      2000\n",
      "   macro avg       0.17      0.17      0.17      2000\n",
      "weighted avg       0.17      0.17      0.17      2000\n",
      "\n",
      "\n",
      "Iteration 13/240\n",
      "Parameters: {'C': 0.001, 'degree': 3, 'gamma': 0.1, 'kernel': 'linear'}\n"
     ]
    },
    {
     "name": "stderr",
     "output_type": "stream",
     "text": [
      "C:\\Users\\Danil\\anaconda3\\Lib\\site-packages\\sklearn\\metrics\\_classification.py:1469: UndefinedMetricWarning: Precision and F-score are ill-defined and being set to 0.0 in labels with no predicted samples. Use `zero_division` parameter to control this behavior.\n",
      "  _warn_prf(average, modifier, msg_start, len(result))\n",
      "C:\\Users\\Danil\\anaconda3\\Lib\\site-packages\\sklearn\\metrics\\_classification.py:1469: UndefinedMetricWarning: Precision and F-score are ill-defined and being set to 0.0 in labels with no predicted samples. Use `zero_division` parameter to control this behavior.\n",
      "  _warn_prf(average, modifier, msg_start, len(result))\n",
      "C:\\Users\\Danil\\anaconda3\\Lib\\site-packages\\sklearn\\metrics\\_classification.py:1469: UndefinedMetricWarning: Precision and F-score are ill-defined and being set to 0.0 in labels with no predicted samples. Use `zero_division` parameter to control this behavior.\n",
      "  _warn_prf(average, modifier, msg_start, len(result))\n"
     ]
    },
    {
     "name": "stdout",
     "output_type": "stream",
     "text": [
      "Accuracy: 0.166\n",
      "Classification Report:\n",
      "              precision    recall  f1-score   support\n",
      "\n",
      "   Arthritis       0.00      0.00      0.00       319\n",
      "      Asthma       0.17      1.00      0.28       332\n",
      "      Cancer       0.00      0.00      0.00       363\n",
      "    Diabetes       0.00      0.00      0.00       303\n",
      "Hypertension       0.00      0.00      0.00       336\n",
      "     Obesity       0.00      0.00      0.00       347\n",
      "\n",
      "    accuracy                           0.17      2000\n",
      "   macro avg       0.03      0.17      0.05      2000\n",
      "weighted avg       0.03      0.17      0.05      2000\n",
      "\n",
      "\n",
      "Iteration 14/240\n",
      "Parameters: {'C': 0.001, 'degree': 3, 'gamma': 0.1, 'kernel': 'rbf'}\n"
     ]
    },
    {
     "ename": "KeyboardInterrupt",
     "evalue": "",
     "output_type": "error",
     "traceback": [
      "\u001b[1;31m---------------------------------------------------------------------------\u001b[0m",
      "\u001b[1;31mKeyboardInterrupt\u001b[0m                         Traceback (most recent call last)",
      "Cell \u001b[1;32mIn[9], line 33\u001b[0m\n\u001b[0;32m     31\u001b[0m \u001b[38;5;66;03m# Создание и обучение модели с текущими параметрами\u001b[39;00m\n\u001b[0;32m     32\u001b[0m svm \u001b[38;5;241m=\u001b[39m SVC(\u001b[38;5;241m*\u001b[39m\u001b[38;5;241m*\u001b[39mparams)\n\u001b[1;32m---> 33\u001b[0m svm\u001b[38;5;241m.\u001b[39mfit(X_train, y_train)\n\u001b[0;32m     35\u001b[0m \u001b[38;5;66;03m# Оценка модели\u001b[39;00m\n\u001b[0;32m     36\u001b[0m y_pred \u001b[38;5;241m=\u001b[39m svm\u001b[38;5;241m.\u001b[39mpredict(X_test)\n",
      "File \u001b[1;32m~\\anaconda3\\Lib\\site-packages\\sklearn\\base.py:1151\u001b[0m, in \u001b[0;36m_fit_context.<locals>.decorator.<locals>.wrapper\u001b[1;34m(estimator, *args, **kwargs)\u001b[0m\n\u001b[0;32m   1144\u001b[0m     estimator\u001b[38;5;241m.\u001b[39m_validate_params()\n\u001b[0;32m   1146\u001b[0m \u001b[38;5;28;01mwith\u001b[39;00m config_context(\n\u001b[0;32m   1147\u001b[0m     skip_parameter_validation\u001b[38;5;241m=\u001b[39m(\n\u001b[0;32m   1148\u001b[0m         prefer_skip_nested_validation \u001b[38;5;129;01mor\u001b[39;00m global_skip_validation\n\u001b[0;32m   1149\u001b[0m     )\n\u001b[0;32m   1150\u001b[0m ):\n\u001b[1;32m-> 1151\u001b[0m     \u001b[38;5;28;01mreturn\u001b[39;00m fit_method(estimator, \u001b[38;5;241m*\u001b[39margs, \u001b[38;5;241m*\u001b[39m\u001b[38;5;241m*\u001b[39mkwargs)\n",
      "File \u001b[1;32m~\\anaconda3\\Lib\\site-packages\\sklearn\\svm\\_base.py:250\u001b[0m, in \u001b[0;36mBaseLibSVM.fit\u001b[1;34m(self, X, y, sample_weight)\u001b[0m\n\u001b[0;32m    247\u001b[0m     \u001b[38;5;28mprint\u001b[39m(\u001b[38;5;124m\"\u001b[39m\u001b[38;5;124m[LibSVM]\u001b[39m\u001b[38;5;124m\"\u001b[39m, end\u001b[38;5;241m=\u001b[39m\u001b[38;5;124m\"\u001b[39m\u001b[38;5;124m\"\u001b[39m)\n\u001b[0;32m    249\u001b[0m seed \u001b[38;5;241m=\u001b[39m rnd\u001b[38;5;241m.\u001b[39mrandint(np\u001b[38;5;241m.\u001b[39miinfo(\u001b[38;5;124m\"\u001b[39m\u001b[38;5;124mi\u001b[39m\u001b[38;5;124m\"\u001b[39m)\u001b[38;5;241m.\u001b[39mmax)\n\u001b[1;32m--> 250\u001b[0m fit(X, y, sample_weight, solver_type, kernel, random_seed\u001b[38;5;241m=\u001b[39mseed)\n\u001b[0;32m    251\u001b[0m \u001b[38;5;66;03m# see comment on the other call to np.iinfo in this file\u001b[39;00m\n\u001b[0;32m    253\u001b[0m \u001b[38;5;28mself\u001b[39m\u001b[38;5;241m.\u001b[39mshape_fit_ \u001b[38;5;241m=\u001b[39m X\u001b[38;5;241m.\u001b[39mshape \u001b[38;5;28;01mif\u001b[39;00m \u001b[38;5;28mhasattr\u001b[39m(X, \u001b[38;5;124m\"\u001b[39m\u001b[38;5;124mshape\u001b[39m\u001b[38;5;124m\"\u001b[39m) \u001b[38;5;28;01melse\u001b[39;00m (n_samples,)\n",
      "File \u001b[1;32m~\\anaconda3\\Lib\\site-packages\\sklearn\\svm\\_base.py:329\u001b[0m, in \u001b[0;36mBaseLibSVM._dense_fit\u001b[1;34m(self, X, y, sample_weight, solver_type, kernel, random_seed)\u001b[0m\n\u001b[0;32m    315\u001b[0m libsvm\u001b[38;5;241m.\u001b[39mset_verbosity_wrap(\u001b[38;5;28mself\u001b[39m\u001b[38;5;241m.\u001b[39mverbose)\n\u001b[0;32m    317\u001b[0m \u001b[38;5;66;03m# we don't pass **self.get_params() to allow subclasses to\u001b[39;00m\n\u001b[0;32m    318\u001b[0m \u001b[38;5;66;03m# add other parameters to __init__\u001b[39;00m\n\u001b[0;32m    319\u001b[0m (\n\u001b[0;32m    320\u001b[0m     \u001b[38;5;28mself\u001b[39m\u001b[38;5;241m.\u001b[39msupport_,\n\u001b[0;32m    321\u001b[0m     \u001b[38;5;28mself\u001b[39m\u001b[38;5;241m.\u001b[39msupport_vectors_,\n\u001b[0;32m    322\u001b[0m     \u001b[38;5;28mself\u001b[39m\u001b[38;5;241m.\u001b[39m_n_support,\n\u001b[0;32m    323\u001b[0m     \u001b[38;5;28mself\u001b[39m\u001b[38;5;241m.\u001b[39mdual_coef_,\n\u001b[0;32m    324\u001b[0m     \u001b[38;5;28mself\u001b[39m\u001b[38;5;241m.\u001b[39mintercept_,\n\u001b[0;32m    325\u001b[0m     \u001b[38;5;28mself\u001b[39m\u001b[38;5;241m.\u001b[39m_probA,\n\u001b[0;32m    326\u001b[0m     \u001b[38;5;28mself\u001b[39m\u001b[38;5;241m.\u001b[39m_probB,\n\u001b[0;32m    327\u001b[0m     \u001b[38;5;28mself\u001b[39m\u001b[38;5;241m.\u001b[39mfit_status_,\n\u001b[0;32m    328\u001b[0m     \u001b[38;5;28mself\u001b[39m\u001b[38;5;241m.\u001b[39m_num_iter,\n\u001b[1;32m--> 329\u001b[0m ) \u001b[38;5;241m=\u001b[39m libsvm\u001b[38;5;241m.\u001b[39mfit(\n\u001b[0;32m    330\u001b[0m     X,\n\u001b[0;32m    331\u001b[0m     y,\n\u001b[0;32m    332\u001b[0m     svm_type\u001b[38;5;241m=\u001b[39msolver_type,\n\u001b[0;32m    333\u001b[0m     sample_weight\u001b[38;5;241m=\u001b[39msample_weight,\n\u001b[0;32m    334\u001b[0m     \u001b[38;5;66;03m# TODO(1.4): Replace \"_class_weight\" with \"class_weight_\"\u001b[39;00m\n\u001b[0;32m    335\u001b[0m     class_weight\u001b[38;5;241m=\u001b[39m\u001b[38;5;28mgetattr\u001b[39m(\u001b[38;5;28mself\u001b[39m, \u001b[38;5;124m\"\u001b[39m\u001b[38;5;124m_class_weight\u001b[39m\u001b[38;5;124m\"\u001b[39m, np\u001b[38;5;241m.\u001b[39mempty(\u001b[38;5;241m0\u001b[39m)),\n\u001b[0;32m    336\u001b[0m     kernel\u001b[38;5;241m=\u001b[39mkernel,\n\u001b[0;32m    337\u001b[0m     C\u001b[38;5;241m=\u001b[39m\u001b[38;5;28mself\u001b[39m\u001b[38;5;241m.\u001b[39mC,\n\u001b[0;32m    338\u001b[0m     nu\u001b[38;5;241m=\u001b[39m\u001b[38;5;28mself\u001b[39m\u001b[38;5;241m.\u001b[39mnu,\n\u001b[0;32m    339\u001b[0m     probability\u001b[38;5;241m=\u001b[39m\u001b[38;5;28mself\u001b[39m\u001b[38;5;241m.\u001b[39mprobability,\n\u001b[0;32m    340\u001b[0m     degree\u001b[38;5;241m=\u001b[39m\u001b[38;5;28mself\u001b[39m\u001b[38;5;241m.\u001b[39mdegree,\n\u001b[0;32m    341\u001b[0m     shrinking\u001b[38;5;241m=\u001b[39m\u001b[38;5;28mself\u001b[39m\u001b[38;5;241m.\u001b[39mshrinking,\n\u001b[0;32m    342\u001b[0m     tol\u001b[38;5;241m=\u001b[39m\u001b[38;5;28mself\u001b[39m\u001b[38;5;241m.\u001b[39mtol,\n\u001b[0;32m    343\u001b[0m     cache_size\u001b[38;5;241m=\u001b[39m\u001b[38;5;28mself\u001b[39m\u001b[38;5;241m.\u001b[39mcache_size,\n\u001b[0;32m    344\u001b[0m     coef0\u001b[38;5;241m=\u001b[39m\u001b[38;5;28mself\u001b[39m\u001b[38;5;241m.\u001b[39mcoef0,\n\u001b[0;32m    345\u001b[0m     gamma\u001b[38;5;241m=\u001b[39m\u001b[38;5;28mself\u001b[39m\u001b[38;5;241m.\u001b[39m_gamma,\n\u001b[0;32m    346\u001b[0m     epsilon\u001b[38;5;241m=\u001b[39m\u001b[38;5;28mself\u001b[39m\u001b[38;5;241m.\u001b[39mepsilon,\n\u001b[0;32m    347\u001b[0m     max_iter\u001b[38;5;241m=\u001b[39m\u001b[38;5;28mself\u001b[39m\u001b[38;5;241m.\u001b[39mmax_iter,\n\u001b[0;32m    348\u001b[0m     random_seed\u001b[38;5;241m=\u001b[39mrandom_seed,\n\u001b[0;32m    349\u001b[0m )\n\u001b[0;32m    351\u001b[0m \u001b[38;5;28mself\u001b[39m\u001b[38;5;241m.\u001b[39m_warn_from_fit_status()\n",
      "\u001b[1;31mKeyboardInterrupt\u001b[0m: "
     ]
    }
   ],
   "source": [
    "from tqdm import tqdm\n",
    "from sklearn.model_selection import GridSearchCV\n",
    "from sklearn.svm import SVC\n",
    "from sklearn.metrics import accuracy_score, classification_report\n",
    "import numpy as np\n",
    "import pandas as pd\n",
    "from sklearn.preprocessing import LabelEncoder, StandardScaler\n",
    "from sklearn.model_selection import train_test_split\n",
    "from sklearn.model_selection import ParameterGrid\n",
    "\n",
    "\n",
    "# Загрузка данных и преобразования...\n",
    "data = pd.read_csv('healthcare_dataset.csv')\n",
    "# ... (ваша предобработка данных)\n",
    "\n",
    "# Определение параметров для поиска\n",
    "param_grid = {'C': [0.001, 0.01, 0.1, 1, 10],\n",
    "              'kernel': ['linear', 'rbf', 'sigmoid', 'poly'],\n",
    "              'gamma': [0.1, 1, 10],\n",
    "              'degree': list(range(2, 6))}\n",
    "  # Инициализация прогресса\n",
    "total_iterations = len(list(ParameterGrid(param_grid)))\n",
    "current_iteration = 0\n",
    "\n",
    "# Цикл по всем комбинациям параметров\n",
    "for params in ParameterGrid(param_grid):\n",
    "    current_iteration += 1\n",
    "    print(f\"Iteration {current_iteration}/{total_iterations}\")\n",
    "    print(f\"Parameters: {params}\")\n",
    "    \n",
    "    # Создание и обучение модели с текущими параметрами\n",
    "    svm = SVC(**params)\n",
    "    svm.fit(X_train, y_train)\n",
    "    \n",
    "    # Оценка модели\n",
    "    y_pred = svm.predict(X_test)\n",
    "    accuracy = accuracy_score(y_test, y_pred)\n",
    "    report = classification_report(y_test, y_pred)\n",
    "    \n",
    "    print(f\"Accuracy: {accuracy}\")\n",
    "    print(f\"Classification Report:\\n{report}\\n\")"
   ]
  },
  {
   "cell_type": "markdown",
   "id": "11b23d72",
   "metadata": {},
   "source": [
    "Программа загружает данные из CSV-файла , преобразует даты, рассчитывает длительность пребывания, убирает столбцы с датами, разделяет данные на признаки и целевую переменную, кодирует категориальные переменные, обрабатывает пропущенные значения и масштабирует данные, разбивает их на обучающие и тестовые наборы, определяет набор гиперпараметров для модели SVM, выполняет поиск наилучших параметров для SVM с помощью кросс-валидации и оценивает модель, выводя отчет о ее эффективности."
   ]
  }
 ],
 "metadata": {
  "kernelspec": {
   "display_name": "Python 3 (ipykernel)",
   "language": "python",
   "name": "python3"
  },
  "language_info": {
   "codemirror_mode": {
    "name": "ipython",
    "version": 3
   },
   "file_extension": ".py",
   "mimetype": "text/x-python",
   "name": "python",
   "nbconvert_exporter": "python",
   "pygments_lexer": "ipython3",
   "version": "3.11.5"
  }
 },
 "nbformat": 4,
 "nbformat_minor": 5
}
