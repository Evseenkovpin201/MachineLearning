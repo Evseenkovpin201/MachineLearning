{
 "cells": [
  {
   "cell_type": "code",
   "execution_count": 3,
   "id": "6ed28af2",
   "metadata": {
    "scrolled": true
   },
   "outputs": [
    {
     "name": "stdout",
     "output_type": "stream",
     "text": [
      "Cross-validated accuracy: 0.1715 (+/- 0.014866068747318495)\n",
      "Accuracy on test set: 0.1605\n",
      "              precision    recall  f1-score   support\n",
      "\n",
      "   Arthritis       0.16      0.15      0.16       319\n",
      "      Asthma       0.15      0.29      0.19       332\n",
      "      Cancer       0.15      0.07      0.10       363\n",
      "    Diabetes       0.17      0.13      0.14       303\n",
      "Hypertension       0.17      0.25      0.20       336\n",
      "     Obesity       0.20      0.08      0.11       347\n",
      "\n",
      "    accuracy                           0.16      2000\n",
      "   macro avg       0.17      0.16      0.15      2000\n",
      "weighted avg       0.17      0.16      0.15      2000\n",
      "\n"
     ]
    }
   ],
   "source": [
    "import pandas as pd\n",
    "from sklearn.model_selection import train_test_split, cross_val_score\n",
    "from sklearn.preprocessing import LabelEncoder\n",
    "from sklearn.naive_bayes import GaussianNB\n",
    "from sklearn.metrics import accuracy_score, classification_report\n",
    "\n",
    "# Загрузка данных и предобработка\n",
    "data = pd.read_csv('healthcare_dataset.csv')\n",
    "\n",
    "# Преобразование категориальных признаков в числовые\n",
    "le = LabelEncoder()\n",
    "data['Gender'] = le.fit_transform(data['Gender'])\n",
    "data['Blood Type'] = le.fit_transform(data['Blood Type'])\n",
    "data['Insurance Provider'] = le.fit_transform(data['Insurance Provider'])\n",
    "data['Admission Type'] = le.fit_transform(data['Admission Type'])\n",
    "\n",
    "# Удаление ненужных столбцов\n",
    "data.drop(['Name', 'Date of Admission', 'Doctor', 'Hospital', 'Discharge Date', 'Medication', 'Test Results'], axis=1, inplace=True)\n",
    "\n",
    "# Разделение данных на признаки и целевую переменную\n",
    "X = data.drop('Medical Condition', axis=1)\n",
    "y = data['Medical Condition']\n",
    "\n",
    "# Разделение данных на обучающий и тестовый наборы\n",
    "X_train, X_test, y_train, y_test = train_test_split(X, y, test_size=0.2, random_state=42)\n",
    "\n",
    "# Инициализация модели наивного Байеса\n",
    "nb = GaussianNB()\n",
    "\n",
    "# Кросс-валидация на обучающем наборе\n",
    "scores = cross_val_score(nb, X_train, y_train, cv=5)  # cv=5 означает 5-кратную кросс-валидацию на обучающем наборе\n",
    "print(f\"Cross-validated accuracy: {scores.mean()} (+/- {scores.std() * 2})\")\n",
    "\n",
    "# Обучение модели на обучающем наборе данных\n",
    "nb.fit(X_train, y_train)\n",
    "\n",
    "# Предсказание на тестовых данных\n",
    "predictions = nb.predict(X_test)\n",
    "\n",
    "# Оценка качества модели на тестовом наборе\n",
    "accuracy = accuracy_score(y_test, predictions)\n",
    "print(f'Accuracy on test set: {accuracy}')\n",
    "\n",
    "# Вывод отчета о классификации\n",
    "print(classification_report(y_test, predictions))\n"
   ]
  },
  {
   "cell_type": "markdown",
   "id": "41c07043",
   "metadata": {},
   "source": [
    "Программа загружает данные из CSV-файла, преобразует категориальные признаки в числовые, удаляет лишние столбцы ('Name', 'Date of Admission', 'Doctor', 'Hospital', 'Discharge Date', 'Medication', 'Test Results'), разделяет данные на признаки (X) и целевую переменную (y), затем проводит обучение модели наивного Байеса с использованием кросс-валидации (5 фолдов) на обучающем наборе и оценивает точность модели на тестовом наборе с выводом отчета о классификации.\n",
    "\n",
    "\n",
    "\n",
    "\n",
    "\n",
    "\n",
    "\n",
    "\n",
    "\n",
    "\n",
    "\n"
   ]
  },
  {
   "cell_type": "code",
   "execution_count": null,
   "id": "f1436a32",
   "metadata": {},
   "outputs": [],
   "source": []
  }
 ],
 "metadata": {
  "kernelspec": {
   "display_name": "Python 3 (ipykernel)",
   "language": "python",
   "name": "python3"
  },
  "language_info": {
   "codemirror_mode": {
    "name": "ipython",
    "version": 3
   },
   "file_extension": ".py",
   "mimetype": "text/x-python",
   "name": "python",
   "nbconvert_exporter": "python",
   "pygments_lexer": "ipython3",
   "version": "3.11.5"
  }
 },
 "nbformat": 4,
 "nbformat_minor": 5
}
